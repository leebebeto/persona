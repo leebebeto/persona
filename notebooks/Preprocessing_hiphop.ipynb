{
 "cells": [
  {
   "cell_type": "markdown",
   "metadata": {},
   "source": [
    "## Preprocessing Hiphop Lyrics\n",
    "* Too much slangs in hiphop lyrics occuring oov\n",
    "* preprocessing \n",
    "*  https://www.kdnuggets.com/2018/03/text-data-preprocessing-walkthrough-python.html\n"
   ]
  },
  {
   "cell_type": "code",
   "execution_count": 104,
   "metadata": {},
   "outputs": [],
   "source": [
    "import re\n",
    "import pandas as pd\n",
    "import contractions\n",
    "import pickle"
   ]
  },
  {
   "cell_type": "code",
   "execution_count": 90,
   "metadata": {},
   "outputs": [],
   "source": [
    "def to_lowercase(words):\n",
    "    \"\"\"Convert all characters to lowercase from list of tokenized words\"\"\"\n",
    "    new_words = words.lower()\n",
    "    return new_words\n",
    "\n",
    "def remove_punctuation(words):\n",
    "    \"\"\"Remove punctuation from list of tokenized words\"\"\"\n",
    "    new_words = re.sub(r'[^\\w\\s]', '', words)\n",
    "    return new_words\n",
    "\n",
    "def replace_contractions(text):\n",
    "    \"\"\"Replace contractions in string of text\"\"\" \n",
    "    return contractions.fix(text)\n",
    "\n",
    "def remove_between_square_brackets(text):\n",
    "    return re.sub('\\[[^]]*\\]', '', text) # for removing [Hook], [Verse 1]\n",
    "\n",
    "def side_strip(text):\n",
    "    text = text.lstrip()\n",
    "    text = text.rstrip()\n",
    "    return text"
   ]
  },
  {
   "cell_type": "code",
   "execution_count": 91,
   "metadata": {},
   "outputs": [],
   "source": [
    "data_path = '../data/hiphop.pickle'\n",
    "df = pd.read_pickle(data_path)\n",
    "\n",
    "data_path = '../most_loved_lyric_list.pickle'\n",
    "df_love = pd.read_pickle(data_path)"
   ]
  },
  {
   "cell_type": "code",
   "execution_count": 94,
   "metadata": {},
   "outputs": [
    {
     "name": "stdout",
     "output_type": "stream",
     "text": [
      "Before: 1989 the number, another summer\n",
      "After:  1989 the number another summer\n"
     ]
    }
   ],
   "source": [
    "print(\"Before:\",df[0])\n",
    "print(\"After: \",remove_punctuation(df[0]))"
   ]
  },
  {
   "cell_type": "code",
   "execution_count": 95,
   "metadata": {},
   "outputs": [
    {
     "name": "stdout",
     "output_type": "stream",
     "text": [
      "Before: Simple an plain, mother fuck him an John Wayne\n",
      "After:  simple an plain, mother fuck him an john wayne\n"
     ]
    }
   ],
   "source": [
    "print(\"Before:\",df[1])\n",
    "print(\"After: \",to_lowercase(df[1]))"
   ]
  },
  {
   "cell_type": "code",
   "execution_count": 96,
   "metadata": {},
   "outputs": [
    {
     "name": "stdout",
     "output_type": "stream",
     "text": [
      "Before: Im\n",
      "After:  I am\n"
     ]
    }
   ],
   "source": [
    "tmp = \"Im\"\n",
    "print(\"Before:\",tmp)\n",
    "print(\"After: \",replace_contractions(tmp))"
   ]
  },
  {
   "cell_type": "code",
   "execution_count": 97,
   "metadata": {},
   "outputs": [
    {
     "data": {
      "text/plain": [
       "'you are the best thing'"
      ]
     },
     "execution_count": 97,
     "metadata": {},
     "output_type": "execute_result"
    }
   ],
   "source": [
    "replace_contractions(remove_punctuation(\"(You're the best thing)\"))"
   ]
  },
  {
   "cell_type": "code",
   "execution_count": 98,
   "metadata": {},
   "outputs": [
    {
     "data": {
      "text/plain": [
       "''"
      ]
     },
     "execution_count": 98,
     "metadata": {},
     "output_type": "execute_result"
    }
   ],
   "source": [
    "remove_between_square_brackets(\"[Chorus]\")"
   ]
  },
  {
   "cell_type": "code",
   "execution_count": 99,
   "metadata": {},
   "outputs": [
    {
     "data": {
      "text/plain": [
       "'babann'"
      ]
     },
     "execution_count": 99,
     "metadata": {},
     "output_type": "execute_result"
    }
   ],
   "source": [
    "\"     babann\".lstrip()"
   ]
  },
  {
   "cell_type": "markdown",
   "metadata": {},
   "source": [
    "## Lyrics Preprocessing function\n",
    "* preprocessing -> lowercase, 부호 없애기, [] 안에 있는 거 없애기, I'm -> I am 바꾸기, 양쪽 /s 지우기, empty text 지우기"
   ]
  },
  {
   "cell_type": "code",
   "execution_count": 84,
   "metadata": {},
   "outputs": [],
   "source": [
    "def lyrics_preprocessing(texts):\n",
    "    \n",
    "    texts = to_lowercase(texts)\n",
    "    texts = remove_between_square_brackets(texts)\n",
    "    texts = remove_punctuation(texts)\n",
    "    texts = replace_contractions(texts)\n",
    "    texts = side_strip(texts)\n",
    "    \n",
    "    return texts"
   ]
  },
  {
   "cell_type": "code",
   "execution_count": 109,
   "metadata": {},
   "outputs": [],
   "source": [
    "preprocessed_hp = list(map(lyrics_preprocessing,df))\n",
    "preprocessed_hp = [x for x in preprocessed_hp if len(x) >=1]\n",
    "preprocessed_hp = list(set(preprocessed_hp))\n",
    "with open(\"../preprocessed_hiphop_lyrics.pickle\",\"wb\") as f :\n",
    "    pickle.dump(preprocessed_hp, f)"
   ]
  },
  {
   "cell_type": "code",
   "execution_count": 110,
   "metadata": {},
   "outputs": [
    {
     "data": {
      "text/plain": [
       "6281"
      ]
     },
     "execution_count": 110,
     "metadata": {},
     "output_type": "execute_result"
    }
   ],
   "source": [
    "len(preprocessed_hp)"
   ]
  },
  {
   "cell_type": "code",
   "execution_count": 111,
   "metadata": {},
   "outputs": [
    {
     "data": {
      "text/plain": [
       "6438"
      ]
     },
     "execution_count": 111,
     "metadata": {},
     "output_type": "execute_result"
    }
   ],
   "source": [
    "len(df)"
   ]
  },
  {
   "cell_type": "code",
   "execution_count": 100,
   "metadata": {},
   "outputs": [],
   "source": [
    "preprocessed_lv = list(map(lyrics_preprocessing,df_love))\n",
    "preprocessed_lv = [x for x in preprocessed_lv if len(x) >=1]\n",
    "preprocessed_lv = list(set(preprocessed_lv))"
   ]
  },
  {
   "cell_type": "code",
   "execution_count": 108,
   "metadata": {},
   "outputs": [],
   "source": [
    "with open(\"../preprocessed_love_lyrics.pickle\",\"wb\") as f :\n",
    "    pickle.dump(preprocessed_lv, f)\n"
   ]
  },
  {
   "cell_type": "code",
   "execution_count": 112,
   "metadata": {},
   "outputs": [
    {
     "data": {
      "text/plain": [
       "20363"
      ]
     },
     "execution_count": 112,
     "metadata": {},
     "output_type": "execute_result"
    }
   ],
   "source": [
    "len(preprocessed_lv)"
   ]
  },
  {
   "cell_type": "code",
   "execution_count": 113,
   "metadata": {},
   "outputs": [
    {
     "data": {
      "text/plain": [
       "42380"
      ]
     },
     "execution_count": 113,
     "metadata": {},
     "output_type": "execute_result"
    }
   ],
   "source": [
    "len(df_love)"
   ]
  },
  {
   "cell_type": "code",
   "execution_count": null,
   "metadata": {},
   "outputs": [],
   "source": []
  }
 ],
 "metadata": {
  "kernelspec": {
   "display_name": "nlp_term",
   "language": "python",
   "name": "nlp_term"
  },
  "language_info": {
   "codemirror_mode": {
    "name": "ipython",
    "version": 3
   },
   "file_extension": ".py",
   "mimetype": "text/x-python",
   "name": "python",
   "nbconvert_exporter": "python",
   "pygments_lexer": "ipython3",
   "version": "3.6.10"
  }
 },
 "nbformat": 4,
 "nbformat_minor": 4
}
